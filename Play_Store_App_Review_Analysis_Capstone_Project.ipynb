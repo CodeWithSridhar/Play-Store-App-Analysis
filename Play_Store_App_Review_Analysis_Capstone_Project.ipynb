{
  "nbformat": 4,
  "nbformat_minor": 0,
  "metadata": {
    "kernelspec": {
      "display_name": "Python 3",
      "language": "python",
      "name": "python3"
    },
    "language_info": {
      "codemirror_mode": {
        "name": "ipython",
        "version": 3
      },
      "file_extension": ".py",
      "mimetype": "text/x-python",
      "name": "python",
      "nbconvert_exporter": "python",
      "pygments_lexer": "ipython3",
      "version": "3.6.6"
    },
    "colab": {
      "name": "Play Store App Review Analysis - Capstone Project.ipynb",
      "provenance": [],
      "collapsed_sections": [],
      "include_colab_link": true
    }
  },
  "cells": [
    {
      "cell_type": "markdown",
      "metadata": {
        "id": "view-in-github",
        "colab_type": "text"
      },
      "source": [
        "<a href=\"https://colab.research.google.com/github/kapeeshvarma/Play-Store-App-Analysis/blob/main/Play_Store_App_Review_Analysis_Capstone_Project.ipynb\" target=\"_parent\"><img src=\"https://colab.research.google.com/assets/colab-badge.svg\" alt=\"Open In Colab\"/></a>"
      ]
    },
    {
      "cell_type": "markdown",
      "metadata": {
        "id": "f6st1HNR2HUv"
      },
      "source": [
        "#**Play Store App Review Analysis**\n",
        "\n",
        "Over the years, Google Play Store has evolved into a one-stop platform for downloading apps from different categories. It is the central hub for millions of apps for your smartphone. In this project, we will do a comprehensive analysis of the Play Store App by comparing over ten thousand apps and reviews across different categories. We'll look for insights in the data to devise strategies to drive growth and retention.\n",
        "\n",
        "The data used for this project consists of two files:\n",
        "\n",
        "\n",
        "*   Play Store Data.csv : This dataset contains all the details of the applications on Google Play Store. There are 13 features for each app.\n",
        "*   User Reviews.csv : It contains reviews for each app along with Sentiment (Positive, Negative or Neutral), Sentiment Polarity and Sentiment Subjectivity.\n",
        "\n"
      ]
    },
    {
      "cell_type": "markdown",
      "metadata": {
        "id": "30bUBC6mEAGz"
      },
      "source": [
        "##Importing Data and Modules"
      ]
    },
    {
      "cell_type": "code",
      "metadata": {
        "colab": {
          "base_uri": "https://localhost:8080/"
        },
        "id": "_X-YMox0_Vjf",
        "outputId": "5fa0cf10-a2ce-4a96-92c0-5c547fa35ade"
      },
      "source": [
        "# Mount Google Drive\n",
        "from google.colab import drive\n",
        "drive.mount('/content/drive')"
      ],
      "execution_count": 50,
      "outputs": [
        {
          "output_type": "stream",
          "text": [
            "Drive already mounted at /content/drive; to attempt to forcibly remount, call drive.mount(\"/content/drive\", force_remount=True).\n"
          ],
          "name": "stdout"
        }
      ]
    },
    {
      "cell_type": "code",
      "metadata": {
        "id": "CaslM6av27pi"
      },
      "source": [
        "# Import the necessary modules\n",
        "import numpy as np\n",
        "import pandas as pd\n",
        "import matplotlib.pyplot as plt\n",
        "import seaborn as sns\n",
        "import datetime as dt"
      ],
      "execution_count": 51,
      "outputs": []
    },
    {
      "cell_type": "code",
      "metadata": {
        "colab": {
          "base_uri": "https://localhost:8080/",
          "height": 1000
        },
        "id": "Qsxq9j293Alc",
        "outputId": "7a9bb2fd-66b6-4b28-d390-384e8e86c9e5"
      },
      "source": [
        "# Read in the dataset\n",
        "data = pd.read_csv('/content/drive/MyDrive/Colab Notebooks/Play Store App Review Analysis/Play Store Data.csv')\n",
        "\n",
        "# Print the summary of the dataframe\n",
        "print(data.info())\n",
        "\n",
        "# Print the total number of apps\n",
        "print('Total number of apps in the dataset = ', len(data))\n",
        "\n",
        "# Have a look at a random sample of the dataframe\n",
        "data.sample(10)"
      ],
      "execution_count": 52,
      "outputs": [
        {
          "output_type": "stream",
          "text": [
            "<class 'pandas.core.frame.DataFrame'>\n",
            "RangeIndex: 10841 entries, 0 to 10840\n",
            "Data columns (total 13 columns):\n",
            " #   Column          Non-Null Count  Dtype  \n",
            "---  ------          --------------  -----  \n",
            " 0   App             10841 non-null  object \n",
            " 1   Category        10841 non-null  object \n",
            " 2   Rating          9367 non-null   float64\n",
            " 3   Reviews         10841 non-null  object \n",
            " 4   Size            10841 non-null  object \n",
            " 5   Installs        10841 non-null  object \n",
            " 6   Type            10840 non-null  object \n",
            " 7   Price           10841 non-null  object \n",
            " 8   Content Rating  10840 non-null  object \n",
            " 9   Genres          10841 non-null  object \n",
            " 10  Last Updated    10841 non-null  object \n",
            " 11  Current Ver     10833 non-null  object \n",
            " 12  Android Ver     10838 non-null  object \n",
            "dtypes: float64(1), object(12)\n",
            "memory usage: 1.1+ MB\n",
            "None\n",
            "Total number of apps in the dataset =  10841\n"
          ],
          "name": "stdout"
        },
        {
          "output_type": "execute_result",
          "data": {
            "text/html": [
              "<div>\n",
              "<style scoped>\n",
              "    .dataframe tbody tr th:only-of-type {\n",
              "        vertical-align: middle;\n",
              "    }\n",
              "\n",
              "    .dataframe tbody tr th {\n",
              "        vertical-align: top;\n",
              "    }\n",
              "\n",
              "    .dataframe thead th {\n",
              "        text-align: right;\n",
              "    }\n",
              "</style>\n",
              "<table border=\"1\" class=\"dataframe\">\n",
              "  <thead>\n",
              "    <tr style=\"text-align: right;\">\n",
              "      <th></th>\n",
              "      <th>App</th>\n",
              "      <th>Category</th>\n",
              "      <th>Rating</th>\n",
              "      <th>Reviews</th>\n",
              "      <th>Size</th>\n",
              "      <th>Installs</th>\n",
              "      <th>Type</th>\n",
              "      <th>Price</th>\n",
              "      <th>Content Rating</th>\n",
              "      <th>Genres</th>\n",
              "      <th>Last Updated</th>\n",
              "      <th>Current Ver</th>\n",
              "      <th>Android Ver</th>\n",
              "    </tr>\n",
              "  </thead>\n",
              "  <tbody>\n",
              "    <tr>\n",
              "      <th>7204</th>\n",
              "      <td>TI-84 CE Graphing Calculator Manual TI 84</td>\n",
              "      <td>FAMILY</td>\n",
              "      <td>5.0</td>\n",
              "      <td>1</td>\n",
              "      <td>27M</td>\n",
              "      <td>100+</td>\n",
              "      <td>Paid</td>\n",
              "      <td>$4.99</td>\n",
              "      <td>Everyone</td>\n",
              "      <td>Education</td>\n",
              "      <td>March 28, 2018</td>\n",
              "      <td>1.5.2</td>\n",
              "      <td>4.1 and up</td>\n",
              "    </tr>\n",
              "    <tr>\n",
              "      <th>729</th>\n",
              "      <td>ABC Preschool Free</td>\n",
              "      <td>EDUCATION</td>\n",
              "      <td>3.8</td>\n",
              "      <td>27572</td>\n",
              "      <td>25M</td>\n",
              "      <td>5,000,000+</td>\n",
              "      <td>Free</td>\n",
              "      <td>0</td>\n",
              "      <td>Everyone</td>\n",
              "      <td>Education;Education</td>\n",
              "      <td>October 25, 2017</td>\n",
              "      <td>3.0</td>\n",
              "      <td>2.3 and up</td>\n",
              "    </tr>\n",
              "    <tr>\n",
              "      <th>6316</th>\n",
              "      <td>BJ Bridge Acol Beginner 2018</td>\n",
              "      <td>GAME</td>\n",
              "      <td>3.7</td>\n",
              "      <td>11</td>\n",
              "      <td>4.8M</td>\n",
              "      <td>5,000+</td>\n",
              "      <td>Free</td>\n",
              "      <td>0</td>\n",
              "      <td>Everyone</td>\n",
              "      <td>Card</td>\n",
              "      <td>May 21, 2018</td>\n",
              "      <td>6.2-begina</td>\n",
              "      <td>4.0 and up</td>\n",
              "    </tr>\n",
              "    <tr>\n",
              "      <th>7257</th>\n",
              "      <td>Wallpapers DAF CF 85 Trucks</td>\n",
              "      <td>PERSONALIZATION</td>\n",
              "      <td>NaN</td>\n",
              "      <td>0</td>\n",
              "      <td>16M</td>\n",
              "      <td>10+</td>\n",
              "      <td>Free</td>\n",
              "      <td>0</td>\n",
              "      <td>Teen</td>\n",
              "      <td>Personalization</td>\n",
              "      <td>April 29, 2017</td>\n",
              "      <td>1.0</td>\n",
              "      <td>4.1 and up</td>\n",
              "    </tr>\n",
              "    <tr>\n",
              "      <th>10628</th>\n",
              "      <td>PriorityONE Credit Union of Fl</td>\n",
              "      <td>FINANCE</td>\n",
              "      <td>4.7</td>\n",
              "      <td>178</td>\n",
              "      <td>12M</td>\n",
              "      <td>1,000+</td>\n",
              "      <td>Free</td>\n",
              "      <td>0</td>\n",
              "      <td>Everyone</td>\n",
              "      <td>Finance</td>\n",
              "      <td>June 12, 2018</td>\n",
              "      <td>5.9.1.0</td>\n",
              "      <td>5.0 and up</td>\n",
              "    </tr>\n",
              "    <tr>\n",
              "      <th>3384</th>\n",
              "      <td>ASUS Cover for ZenFone 2</td>\n",
              "      <td>PERSONALIZATION</td>\n",
              "      <td>4.4</td>\n",
              "      <td>43960</td>\n",
              "      <td>9.8M</td>\n",
              "      <td>10,000,000+</td>\n",
              "      <td>Free</td>\n",
              "      <td>0</td>\n",
              "      <td>Everyone</td>\n",
              "      <td>Personalization</td>\n",
              "      <td>December 1, 2017</td>\n",
              "      <td>2.0.0.39_171124</td>\n",
              "      <td>5.0 and up</td>\n",
              "    </tr>\n",
              "    <tr>\n",
              "      <th>3790</th>\n",
              "      <td>USA TODAY</td>\n",
              "      <td>NEWS_AND_MAGAZINES</td>\n",
              "      <td>4.1</td>\n",
              "      <td>49259</td>\n",
              "      <td>Varies with device</td>\n",
              "      <td>5,000,000+</td>\n",
              "      <td>Free</td>\n",
              "      <td>0</td>\n",
              "      <td>Everyone 10+</td>\n",
              "      <td>News &amp; Magazines</td>\n",
              "      <td>August 2, 2018</td>\n",
              "      <td>Varies with device</td>\n",
              "      <td>Varies with device</td>\n",
              "    </tr>\n",
              "    <tr>\n",
              "      <th>6692</th>\n",
              "      <td>cronometra-br</td>\n",
              "      <td>PRODUCTIVITY</td>\n",
              "      <td>NaN</td>\n",
              "      <td>0</td>\n",
              "      <td>5.4M</td>\n",
              "      <td>0+</td>\n",
              "      <td>Paid</td>\n",
              "      <td>$154.99</td>\n",
              "      <td>Everyone</td>\n",
              "      <td>Productivity</td>\n",
              "      <td>November 24, 2017</td>\n",
              "      <td>1.0.0</td>\n",
              "      <td>4.1 and up</td>\n",
              "    </tr>\n",
              "    <tr>\n",
              "      <th>7064</th>\n",
              "      <td>BZ Langenthaler Tagblatt</td>\n",
              "      <td>VIDEO_PLAYERS</td>\n",
              "      <td>NaN</td>\n",
              "      <td>22</td>\n",
              "      <td>8.5M</td>\n",
              "      <td>1,000+</td>\n",
              "      <td>Free</td>\n",
              "      <td>0</td>\n",
              "      <td>Everyone</td>\n",
              "      <td>Video Players &amp; Editors</td>\n",
              "      <td>August 3, 2018</td>\n",
              "      <td>7.5.9.1</td>\n",
              "      <td>4.1 and up</td>\n",
              "    </tr>\n",
              "    <tr>\n",
              "      <th>10563</th>\n",
              "      <td>FK Spartak Subotica</td>\n",
              "      <td>SPORTS</td>\n",
              "      <td>NaN</td>\n",
              "      <td>0</td>\n",
              "      <td>26M</td>\n",
              "      <td>10+</td>\n",
              "      <td>Free</td>\n",
              "      <td>0</td>\n",
              "      <td>Everyone</td>\n",
              "      <td>Sports</td>\n",
              "      <td>February 19, 2018</td>\n",
              "      <td>1.0</td>\n",
              "      <td>4.1 and up</td>\n",
              "    </tr>\n",
              "  </tbody>\n",
              "</table>\n",
              "</div>"
            ],
            "text/plain": [
              "                                             App  ...         Android Ver\n",
              "7204   TI-84 CE Graphing Calculator Manual TI 84  ...          4.1 and up\n",
              "729                           ABC Preschool Free  ...          2.3 and up\n",
              "6316                BJ Bridge Acol Beginner 2018  ...          4.0 and up\n",
              "7257                 Wallpapers DAF CF 85 Trucks  ...          4.1 and up\n",
              "10628             PriorityONE Credit Union of Fl  ...          5.0 and up\n",
              "3384                    ASUS Cover for ZenFone 2  ...          5.0 and up\n",
              "3790                                   USA TODAY  ...  Varies with device\n",
              "6692                               cronometra-br  ...          4.1 and up\n",
              "7064                    BZ Langenthaler Tagblatt  ...          4.1 and up\n",
              "10563                        FK Spartak Subotica  ...          4.1 and up\n",
              "\n",
              "[10 rows x 13 columns]"
            ]
          },
          "metadata": {
            "tags": []
          },
          "execution_count": 52
        }
      ]
    },
    {
      "cell_type": "markdown",
      "metadata": {
        "id": "ZPMgFivu3qOr"
      },
      "source": [
        "##Data Cleaning"
      ]
    },
    {
      "cell_type": "code",
      "metadata": {
        "colab": {
          "base_uri": "https://localhost:8080/"
        },
        "id": "pyTrEZtM3GMl",
        "outputId": "a920fcdb-215c-4944-994a-543bbf9d24e7"
      },
      "source": [
        "# Drop NaNs and duplicates in the dataframe\n",
        "apps = data.dropna()\n",
        "apps = apps.drop_duplicates()\n",
        "print(len(apps))\n",
        "\n",
        "# Remove unwanted characters\n",
        "chars = ['$', '+', ',']\n",
        "cols = ['Installs','Price']\n",
        "\n",
        "for col in cols:\n",
        "  for char in chars:\n",
        "    apps[col] = apps[col].astype(str).str.replace(char,'')\n",
        "\n",
        "  # Convert columns back to numeric data type\n",
        "  apps[col] = pd.to_numeric(apps[col])\n",
        "\n",
        "# Standardize the size of Apps to MB\n",
        "apps['Size'] = apps['Size'].astype(str).str.replace('M','')\n",
        "apps['Size'] = apps['Size'].astype(str).str.replace('k','e-3')\n",
        "\n",
        "# Change the size 'Varies with device' to average app size as reported by Google\n",
        "apps['Size'] = apps['Size'].astype(str).str.replace('Varies with device','11.5')\n",
        "\n",
        "apps['Size'] = pd.to_numeric(apps['Size'])"
      ],
      "execution_count": 53,
      "outputs": [
        {
          "output_type": "stream",
          "text": [
            "8886\n"
          ],
          "name": "stdout"
        }
      ]
    },
    {
      "cell_type": "code",
      "metadata": {
        "colab": {
          "base_uri": "https://localhost:8080/",
          "height": 563
        },
        "id": "ozK8laa030ES",
        "outputId": "a273695c-3677-4b75-960b-6c2d3f441de1"
      },
      "source": [
        "# Convert the 'Last Updated' column to Datetime object\n",
        "apps['Last Updated'] = pd.to_datetime(apps['Last Updated'])\n",
        "\n",
        "apps.sample(10)"
      ],
      "execution_count": 54,
      "outputs": [
        {
          "output_type": "execute_result",
          "data": {
            "text/html": [
              "<div>\n",
              "<style scoped>\n",
              "    .dataframe tbody tr th:only-of-type {\n",
              "        vertical-align: middle;\n",
              "    }\n",
              "\n",
              "    .dataframe tbody tr th {\n",
              "        vertical-align: top;\n",
              "    }\n",
              "\n",
              "    .dataframe thead th {\n",
              "        text-align: right;\n",
              "    }\n",
              "</style>\n",
              "<table border=\"1\" class=\"dataframe\">\n",
              "  <thead>\n",
              "    <tr style=\"text-align: right;\">\n",
              "      <th></th>\n",
              "      <th>App</th>\n",
              "      <th>Category</th>\n",
              "      <th>Rating</th>\n",
              "      <th>Reviews</th>\n",
              "      <th>Size</th>\n",
              "      <th>Installs</th>\n",
              "      <th>Type</th>\n",
              "      <th>Price</th>\n",
              "      <th>Content Rating</th>\n",
              "      <th>Genres</th>\n",
              "      <th>Last Updated</th>\n",
              "      <th>Current Ver</th>\n",
              "      <th>Android Ver</th>\n",
              "    </tr>\n",
              "  </thead>\n",
              "  <tbody>\n",
              "    <tr>\n",
              "      <th>2344</th>\n",
              "      <td>Period Tracker</td>\n",
              "      <td>MEDICAL</td>\n",
              "      <td>4.9</td>\n",
              "      <td>100082</td>\n",
              "      <td>3.7</td>\n",
              "      <td>1000000</td>\n",
              "      <td>Free</td>\n",
              "      <td>0.0</td>\n",
              "      <td>Everyone</td>\n",
              "      <td>Medical</td>\n",
              "      <td>2018-07-09</td>\n",
              "      <td>1.2.2</td>\n",
              "      <td>4.1 and up</td>\n",
              "    </tr>\n",
              "    <tr>\n",
              "      <th>3855</th>\n",
              "      <td>Blitzer.de</td>\n",
              "      <td>MAPS_AND_NAVIGATION</td>\n",
              "      <td>4.5</td>\n",
              "      <td>65590</td>\n",
              "      <td>18.0</td>\n",
              "      <td>5000000</td>\n",
              "      <td>Free</td>\n",
              "      <td>0.0</td>\n",
              "      <td>Everyone</td>\n",
              "      <td>Maps &amp; Navigation</td>\n",
              "      <td>2018-07-09</td>\n",
              "      <td>3.1.0</td>\n",
              "      <td>4.0 and up</td>\n",
              "    </tr>\n",
              "    <tr>\n",
              "      <th>10017</th>\n",
              "      <td>TMJ4.com - WTMJ-TV Milwaukee</td>\n",
              "      <td>NEWS_AND_MAGAZINES</td>\n",
              "      <td>3.8</td>\n",
              "      <td>728</td>\n",
              "      <td>11.5</td>\n",
              "      <td>50000</td>\n",
              "      <td>Free</td>\n",
              "      <td>0.0</td>\n",
              "      <td>Everyone 10+</td>\n",
              "      <td>News &amp; Magazines</td>\n",
              "      <td>2018-07-05</td>\n",
              "      <td>Varies with device</td>\n",
              "      <td>Varies with device</td>\n",
              "    </tr>\n",
              "    <tr>\n",
              "      <th>7136</th>\n",
              "      <td>CB News</td>\n",
              "      <td>FAMILY</td>\n",
              "      <td>5.0</td>\n",
              "      <td>7</td>\n",
              "      <td>20.0</td>\n",
              "      <td>50</td>\n",
              "      <td>Free</td>\n",
              "      <td>0.0</td>\n",
              "      <td>Everyone</td>\n",
              "      <td>Education</td>\n",
              "      <td>2016-09-10</td>\n",
              "      <td>1.2.0</td>\n",
              "      <td>4.1 and up</td>\n",
              "    </tr>\n",
              "    <tr>\n",
              "      <th>9862</th>\n",
              "      <td>A+ Gallery - Photos &amp; Videos</td>\n",
              "      <td>PHOTOGRAPHY</td>\n",
              "      <td>4.5</td>\n",
              "      <td>223941</td>\n",
              "      <td>11.5</td>\n",
              "      <td>10000000</td>\n",
              "      <td>Free</td>\n",
              "      <td>0.0</td>\n",
              "      <td>Everyone</td>\n",
              "      <td>Photography</td>\n",
              "      <td>2018-08-06</td>\n",
              "      <td>Varies with device</td>\n",
              "      <td>Varies with device</td>\n",
              "    </tr>\n",
              "    <tr>\n",
              "      <th>4974</th>\n",
              "      <td>Brave Browser: Fast AdBlocker</td>\n",
              "      <td>COMMUNICATION</td>\n",
              "      <td>4.3</td>\n",
              "      <td>40241</td>\n",
              "      <td>11.5</td>\n",
              "      <td>5000000</td>\n",
              "      <td>Free</td>\n",
              "      <td>0.0</td>\n",
              "      <td>Everyone</td>\n",
              "      <td>Communication</td>\n",
              "      <td>2018-06-30</td>\n",
              "      <td>1.0.52</td>\n",
              "      <td>4.1 and up</td>\n",
              "    </tr>\n",
              "    <tr>\n",
              "      <th>8409</th>\n",
              "      <td>Car Crash III Beam DH Real Damage Simulator 2018</td>\n",
              "      <td>GAME</td>\n",
              "      <td>3.6</td>\n",
              "      <td>151</td>\n",
              "      <td>100.0</td>\n",
              "      <td>10000</td>\n",
              "      <td>Free</td>\n",
              "      <td>0.0</td>\n",
              "      <td>Everyone</td>\n",
              "      <td>Racing</td>\n",
              "      <td>2018-05-20</td>\n",
              "      <td>1.03</td>\n",
              "      <td>4.1 and up</td>\n",
              "    </tr>\n",
              "    <tr>\n",
              "      <th>725</th>\n",
              "      <td>Kanji test · Han search Kanji training (free v...</td>\n",
              "      <td>EDUCATION</td>\n",
              "      <td>4.2</td>\n",
              "      <td>6736</td>\n",
              "      <td>22.0</td>\n",
              "      <td>1000000</td>\n",
              "      <td>Free</td>\n",
              "      <td>0.0</td>\n",
              "      <td>Mature 17+</td>\n",
              "      <td>Education</td>\n",
              "      <td>2017-10-17</td>\n",
              "      <td>2.51.0</td>\n",
              "      <td>4.0.3 and up</td>\n",
              "    </tr>\n",
              "    <tr>\n",
              "      <th>9936</th>\n",
              "      <td>Strawberry Shortcake Ice Cream Island</td>\n",
              "      <td>FAMILY</td>\n",
              "      <td>4.2</td>\n",
              "      <td>32200</td>\n",
              "      <td>15.0</td>\n",
              "      <td>5000000</td>\n",
              "      <td>Free</td>\n",
              "      <td>0.0</td>\n",
              "      <td>Everyone</td>\n",
              "      <td>Casual;Pretend Play</td>\n",
              "      <td>2017-11-06</td>\n",
              "      <td>1.2</td>\n",
              "      <td>4.1 and up</td>\n",
              "    </tr>\n",
              "    <tr>\n",
              "      <th>1392</th>\n",
              "      <td>Calorie Counter - MyNetDiary</td>\n",
              "      <td>HEALTH_AND_FITNESS</td>\n",
              "      <td>4.5</td>\n",
              "      <td>27439</td>\n",
              "      <td>19.0</td>\n",
              "      <td>1000000</td>\n",
              "      <td>Free</td>\n",
              "      <td>0.0</td>\n",
              "      <td>Everyone</td>\n",
              "      <td>Health &amp; Fitness</td>\n",
              "      <td>2018-07-16</td>\n",
              "      <td>6.5.1</td>\n",
              "      <td>5.0 and up</td>\n",
              "    </tr>\n",
              "  </tbody>\n",
              "</table>\n",
              "</div>"
            ],
            "text/plain": [
              "                                                     App  ...         Android Ver\n",
              "2344                                      Period Tracker  ...          4.1 and up\n",
              "3855                                          Blitzer.de  ...          4.0 and up\n",
              "10017                       TMJ4.com - WTMJ-TV Milwaukee  ...  Varies with device\n",
              "7136                                             CB News  ...          4.1 and up\n",
              "9862                        A+ Gallery - Photos & Videos  ...  Varies with device\n",
              "4974                       Brave Browser: Fast AdBlocker  ...          4.1 and up\n",
              "8409    Car Crash III Beam DH Real Damage Simulator 2018  ...          4.1 and up\n",
              "725    Kanji test · Han search Kanji training (free v...  ...        4.0.3 and up\n",
              "9936               Strawberry Shortcake Ice Cream Island  ...          4.1 and up\n",
              "1392                        Calorie Counter - MyNetDiary  ...          5.0 and up\n",
              "\n",
              "[10 rows x 13 columns]"
            ]
          },
          "metadata": {
            "tags": []
          },
          "execution_count": 54
        }
      ]
    },
    {
      "cell_type": "markdown",
      "metadata": {
        "id": "aQYc0Wd64NAm"
      },
      "source": [
        "##Data Exploration and Visualization"
      ]
    },
    {
      "cell_type": "code",
      "metadata": {
        "colab": {
          "base_uri": "https://localhost:8080/"
        },
        "id": "pwF8tMFy37b3",
        "outputId": "4a7a94ef-e2f3-4ace-ccdd-2e7628ffd37d"
      },
      "source": [
        "# Print the unique app categories\n",
        "categories = apps['Category'].unique()\n",
        "print(categories)"
      ],
      "execution_count": 55,
      "outputs": [
        {
          "output_type": "stream",
          "text": [
            "['ART_AND_DESIGN' 'AUTO_AND_VEHICLES' 'BEAUTY' 'BOOKS_AND_REFERENCE'\n",
            " 'BUSINESS' 'COMICS' 'COMMUNICATION' 'DATING' 'EDUCATION' 'ENTERTAINMENT'\n",
            " 'EVENTS' 'FINANCE' 'FOOD_AND_DRINK' 'HEALTH_AND_FITNESS' 'HOUSE_AND_HOME'\n",
            " 'LIBRARIES_AND_DEMO' 'LIFESTYLE' 'GAME' 'FAMILY' 'MEDICAL' 'SOCIAL'\n",
            " 'SHOPPING' 'PHOTOGRAPHY' 'SPORTS' 'TRAVEL_AND_LOCAL' 'TOOLS'\n",
            " 'PERSONALIZATION' 'PRODUCTIVITY' 'PARENTING' 'WEATHER' 'VIDEO_PLAYERS'\n",
            " 'NEWS_AND_MAGAZINES' 'MAPS_AND_NAVIGATION']\n"
          ],
          "name": "stdout"
        }
      ]
    },
    {
      "cell_type": "code",
      "metadata": {
        "colab": {
          "base_uri": "https://localhost:8080/",
          "height": 558
        },
        "id": "rGoE41Aa4T6t",
        "outputId": "8a128c47-eeab-4d80-bcba-4729d9fae085"
      },
      "source": [
        "# Plot App category and the total number of apps which fall into that category\n",
        "app_categories = apps['Category'].value_counts().sort_values()\n",
        "fig, ax = plt.subplots(figsize = (14,7))\n",
        "\n",
        "ax.bar(app_categories.index,app_categories.values)\n",
        "plt.xticks(rotation=90)\n",
        "plt.xlabel('App Category')\n",
        "plt.ylabel('Number of Apps')\n",
        "plt.show()"
      ],
      "execution_count": 56,
      "outputs": [
        {
          "output_type": "display_data",
          "data": {
            "image/png": "[encoded data removed]",
            "text/plain": [
              "<Figure size 1008x504 with 1 Axes>"
            ]
          },
          "metadata": {
            "tags": [],
            "needs_background": "light"
          }
        }
      ]
    },
    {
      "cell_type": "code",
      "metadata": {
        "colab": {
          "base_uri": "https://localhost:8080/",
          "height": 569
        },
        "id": "z8JqbqBW4Zux",
        "outputId": "dacdb62c-49e9-4185-c921-31fd24786625"
      },
      "source": [
        "# Plot App Category vs Number of Installs\n",
        "fig, ax = plt.subplots(figsize = (14,7))\n",
        "app_category_installs = apps.groupby('Category').sum().sort_values('Installs',ascending=False)\n",
        "ax.bar(app_category_installs.index,app_category_installs.Installs)\n",
        "plt.xticks(rotation=90)\n",
        "plt.xlabel('App Category')\n",
        "plt.ylabel('Number of Installs')\n",
        "plt.show()"
      ],
      "execution_count": 57,
      "outputs": [
        {
          "output_type": "display_data",
          "data": {
            "image/png": "[encoded data removed]",
            "text/plain": [
              "<Figure size 1008x504 with 1 Axes>"
            ]
          },
          "metadata": {
            "tags": [],
            "needs_background": "light"
          }
        }
      ]
    },
    {
      "cell_type": "code",
      "metadata": {
        "colab": {
          "base_uri": "https://localhost:8080/"
        },
        "id": "f4mCNaTW4fB8",
        "outputId": "c4d80bbf-7c0f-4708-a6f7-e5336fa3eaa4"
      },
      "source": [
        "# Average App Rating in each Category\n",
        "avg_rating = apps.groupby('Category')['Rating'].mean()\n",
        "print(avg_rating)"
      ],
      "execution_count": 58,
      "outputs": [
        {
          "output_type": "stream",
          "text": [
            "Category\n",
            "ART_AND_DESIGN         4.377049\n",
            "AUTO_AND_VEHICLES      4.190411\n",
            "BEAUTY                 4.278571\n",
            "BOOKS_AND_REFERENCE    4.347458\n",
            "BUSINESS               4.102593\n",
            "COMICS                 4.155172\n",
            "COMMUNICATION          4.151466\n",
            "DATING                 3.971698\n",
            "EDUCATION              4.375969\n",
            "ENTERTAINMENT          4.136036\n",
            "EVENTS                 4.435556\n",
            "FAMILY                 4.191264\n",
            "FINANCE                4.127445\n",
            "FOOD_AND_DRINK         4.164151\n",
            "GAME                   4.281285\n",
            "HEALTH_AND_FITNESS     4.261450\n",
            "HOUSE_AND_HOME         4.164706\n",
            "LIBRARIES_AND_DEMO     4.179688\n",
            "LIFESTYLE              4.096066\n",
            "MAPS_AND_NAVIGATION    4.051613\n",
            "MEDICAL                4.182450\n",
            "NEWS_AND_MAGAZINES     4.128505\n",
            "PARENTING              4.300000\n",
            "PERSONALIZATION        4.333117\n",
            "PHOTOGRAPHY            4.182895\n",
            "PRODUCTIVITY           4.201796\n",
            "SHOPPING               4.251485\n",
            "SOCIAL                 4.254918\n",
            "SPORTS                 4.225175\n",
            "TOOLS                  4.047203\n",
            "TRAVEL_AND_LOCAL       4.094146\n",
            "VIDEO_PLAYERS          4.063750\n",
            "WEATHER                4.244000\n",
            "Name: Rating, dtype: float64\n"
          ],
          "name": "stdout"
        }
      ]
    },
    {
      "cell_type": "code",
      "metadata": {
        "colab": {
          "base_uri": "https://localhost:8080/",
          "height": 442
        },
        "id": "BYZR-jfK4kqQ",
        "outputId": "f96239de-4817-4615-fe5d-1b3cb93747ae"
      },
      "source": [
        "# Plot a histogram for Average Rating\n",
        "fig, ax = plt.subplots(figsize = (14,7))\n",
        "ax.hist(avg_rating,color='green')\n",
        "ax.axvline(apps['Rating'].mean(),color='yellow',linestyle='--')\n",
        "plt.xlabel('Average Rating')\n",
        "plt.ylabel('Number of App Categories')\n",
        "plt.show()"
      ],
      "execution_count": 59,
      "outputs": [
        {
          "output_type": "display_data",
          "data": {
            "image/png": "[encoded data removed]",
            "text/plain": [
              "<Figure size 1008x504 with 1 Axes>"
            ]
          },
          "metadata": {
            "tags": [],
            "needs_background": "light"
          }
        }
      ]
    },
    {
      "cell_type": "code",
      "metadata": {
        "id": "bNu1VMhm4pYY"
      },
      "source": [
        ""
      ],
      "execution_count": null,
      "outputs": []
    }
  ]
}